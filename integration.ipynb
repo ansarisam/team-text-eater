{
 "cells": [
  {
   "cell_type": "code",
   "execution_count": 1,
   "id": "f950987f",
   "metadata": {},
   "outputs": [
    {
     "name": "stderr",
     "output_type": "stream",
     "text": [
      "No model was supplied, defaulted to sshleifer/distilbart-cnn-12-6 (https://huggingface.co/sshleifer/distilbart-cnn-12-6)\n"
     ]
    }
   ],
   "source": [
    "from capstone_team_text_eater.getSummarization import getSummarization"
   ]
  },
  {
   "cell_type": "code",
   "execution_count": 2,
   "id": "c24f8917",
   "metadata": {
    "scrolled": true
   },
   "outputs": [
    {
     "name": "stderr",
     "output_type": "stream",
     "text": [
      "C:\\Users\\kchai\\Anaconda3\\envs\\paralagal_intg\\lib\\site-packages\\spacy_transformers\\pipeline_component.py:406: UserWarning: Automatically converting a transformer component from spacy-transformers v1.0 to v1.1+. If you see errors or degraded performance, download a newer compatible model or retrain your custom model with the current spacy-transformers version. For more details and available updates, run: python -m spacy validate\n",
      "  warnings.warn(warn_msg)\n",
      "C:\\Users\\kchai\\Anaconda3\\envs\\paralagal_intg\\lib\\site-packages\\torch\\autocast_mode.py:141: UserWarning: User provided device_type of 'cuda', but CUDA is not available. Disabling\n",
      "  warnings.warn('User provided device_type of \\'cuda\\', but CUDA is not available. Disabling')\n"
     ]
    },
    {
     "name": "stdout",
     "output_type": "stream",
     "text": [
      "ℹ Could not determine any instances in doc - returning doc as is.\n",
      "ℹ Could not determine any instances in doc - returning doc as is.\n",
      "ℹ Could not determine any instances in doc - returning doc as is.\n",
      "ℹ Could not determine any instances in doc - returning doc as is.\n",
      "ℹ Could not determine any instances in doc - returning doc as is.\n",
      "ℹ Could not determine any instances in doc - returning doc as is.\n",
      "ℹ Could not determine any instances in doc - returning doc as is.\n"
     ]
    }
   ],
   "source": [
    "getSummarization('dfsfd')"
   ]
  }
 ],
 "metadata": {
  "kernelspec": {
   "display_name": "paralegal_intg_kernal",
   "language": "python",
   "name": "paralegal_intg_kernal"
  },
  "language_info": {
   "codemirror_mode": {
    "name": "ipython",
    "version": 3
   },
   "file_extension": ".py",
   "mimetype": "text/x-python",
   "name": "python",
   "nbconvert_exporter": "python",
   "pygments_lexer": "ipython3",
   "version": "3.8.13"
  }
 },
 "nbformat": 4,
 "nbformat_minor": 5
}
